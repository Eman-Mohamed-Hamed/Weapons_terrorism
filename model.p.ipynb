{
  "nbformat": 4,
  "nbformat_minor": 0,
  "metadata": {
    "colab": {
      "private_outputs": true,
      "provenance": []
    },
    "kernelspec": {
      "name": "python3",
      "display_name": "Python 3"
    },
    "language_info": {
      "name": "python"
    }
  },
  "cells": [
    {
      "cell_type": "code",
      "execution_count": null,
      "metadata": {
        "id": "OtAI_whPKryt"
      },
      "outputs": [],
      "source": [
        "from google.colab import drive\n",
        "drive.mount('/content/drive')"
      ]
    },
    {
      "cell_type": "code",
      "source": [
        "import os\n",
        "import pickle\n",
        "\n",
        "from skimage.io import imread\n",
        "from skimage.transform import resize\n",
        "import numpy as np\n",
        "from sklearn.model_selection import train_test_split\n",
        "from sklearn.model_selection import GridSearchCV\n",
        "from sklearn.svm import SVC\n",
        "from sklearn.metrics import accuracy_score"
      ],
      "metadata": {
        "id": "gvMUpzFULApW"
      },
      "execution_count": null,
      "outputs": []
    },
    {
      "cell_type": "code",
      "source": [
        "!pip install imageio"
      ],
      "metadata": {
        "id": "8gqQVQXKLFY4"
      },
      "execution_count": null,
      "outputs": []
    },
    {
      "cell_type": "code",
      "source": [
        "#prepare data\n",
        "\n",
        "\n",
        "input_dir='//content/drive/MyDrive/Weapons_terrorism/Weapons_terrorism'\n",
        "categories=['RPG','Grenade','Knives','Machine Guns','Masked Face','Pistol Hand Guns']\n",
        "\n",
        "data=[]\n",
        "labels=[]\n",
        "for category_idx, category in enumerate(categories):\n",
        "    for file in os.listdir(os.path.join(input_dir,category)):\n",
        "        img_path = os.path.join(input_dir,category,file)\n",
        "        img = imread(img_path)\n",
        "        img=resize(img,(150,150,3))\n",
        "        data.append(img.flatten())\n",
        "        labels.append(category_idx)\n",
        "\n",
        "data = np.asarray(data)\n",
        "labels = np.asarray(labels)\n",
        "print(\"hello world\")"
      ],
      "metadata": {
        "id": "sOZdLJQZLJ6r"
      },
      "execution_count": null,
      "outputs": []
    },
    {
      "cell_type": "code",
      "source": [
        "# train / test split\n",
        "x_train, x_test, y_train, y_test = train_test_split(data, labels, test_size=0.2, shuffle=True, stratify=labels)"
      ],
      "metadata": {
        "id": "YSXTT8PVNVAe"
      },
      "execution_count": null,
      "outputs": []
    },
    {
      "cell_type": "code",
      "source": [
        "# train classifier\n",
        "classifier = SVC()\n",
        "\n",
        "parameters = [{'gamma': [0.01, 0.001, 0.0001], 'C': [1, 10, 100, 1000]}]\n",
        "\n",
        "grid_search = GridSearchCV(classifier, parameters)\n",
        "\n",
        "grid_search.fit(x_train, y_train)\n",
        "\n",
        "print(\"hello\")"
      ],
      "metadata": {
        "id": "skRzXU9qNYMd"
      },
      "execution_count": null,
      "outputs": []
    },
    {
      "cell_type": "code",
      "source": [
        "# test performance\n",
        "best_estimator = grid_search.best_estimator_\n",
        "\n",
        "y_prediction = best_estimator.predict(x_test)\n",
        "\n",
        "score = accuracy_score(y_prediction, y_test)\n",
        "\n",
        "print('{}% of samples were correctly classified'.format(str(score * 100)))\n",
        "\n",
        "pickle.dump(best_estimator, open('./model.p', 'wb'))"
      ],
      "metadata": {
        "id": "EGARezIvjYNp"
      },
      "execution_count": null,
      "outputs": []
    },
    {
      "cell_type": "code",
      "source": [
        "import os\n",
        "import pickle\n",
        "from skimage.io import imread\n",
        "from skimage.transform import resize\n",
        "import numpy as np\n",
        "import matplotlib.pyplot as plt\n",
        "\n",
        "# Load the trained model\n",
        "model_file = './model.p'\n",
        "with open(model_file, 'rb') as f:\n",
        "    model = pickle.load(f)\n",
        "\n",
        "# Load a new image for testing\n",
        "test_image_path = '/content/drive/MyDrive/Weapons_terrorism/Weapons_terrorism/106.jpg'\n",
        "test_image = imread(test_image_path)\n",
        "test_image = resize(test_image, (150, 150, 3))\n",
        "test_data = np.asarray(test_image.flatten()).reshape(1, -1)\n",
        "\n",
        "# Use the model to make predictions on the new image\n",
        "prediction = model.predict(test_data)\n",
        "\n",
        "# Print the predicted category\n",
        "categories=['RPG','Grenade','Knives','Machine Guns','Masked Face','Pistol Hand Guns']\n",
        "predicted_category = categories[prediction[0]]\n",
        "print('The image is classified as:', predicted_category)\n",
        "\n",
        "# Display the image\n",
        "plt.imshow(test_image)\n",
        "plt.title(predicted_category)\n",
        "plt.show()"
      ],
      "metadata": {
        "id": "yOHic8FrjkIp"
      },
      "execution_count": null,
      "outputs": []
    }
  ]
}